{
 "cells": [
  {
   "cell_type": "code",
   "execution_count": null,
   "metadata": {},
   "outputs": [],
   "source": [
    "import pandas as pd\n",
    "import matplotlib.pyplot as plt\n",
    "import numpy as np\n",
    "import seaborn as sns\n",
    "from sklearn.metrics import roc_auc_score\n",
    "from sklearn.model_selection import GridSearchCV\n",
    "\n",
    "import warnings\n",
    "warnings.filterwarnings('ignore') \n",
    "\n",
    "%matplotlib inline\n",
    "\n",
    "#加载数据\n",
    "test=pd.read_csv('data/cs-test.csv')\n",
    "train=pd.read_csv('data/cs-training.csv')"
   ]
  },
  {
   "cell_type": "code",
   "execution_count": null,
   "metadata": {},
   "outputs": [],
   "source": [
    "#评价指标是AUC，这里定义计算AUC函数\n",
    "def computeAUC(X,Y):\n",
    "    auc = roc_auc_score(X,Y)\n",
    "    print(\"auc=\",auc)\n",
    "    return auc"
   ]
  },
  {
   "cell_type": "code",
   "execution_count": null,
   "metadata": {},
   "outputs": [],
   "source": [
    "#查看数据情况\n",
    "train.info()\n",
    "train.describe()\n",
    "#统计空值\n",
    "train.isnull().sum()"
   ]
  },
  {
   "cell_type": "code",
   "execution_count": null,
   "metadata": {},
   "outputs": [],
   "source": [
    "#处理异常值\n",
    "train[train['age']<18]\n",
    "train.loc[train['age']==0,'age']=train['age'].median()\n",
    "      \n",
    "#吧样本分为退休与工作两类\n",
    "age_working=train.loc[(train['age']>=18) & (train['age']<60)]\n",
    "age_senior=train.loc[train['age']>=60]\n",
    "\n",
    "#用收入的平均值填充缺失值\n",
    "age_working_income=age_working['MonthlyIncome'].mean()\n",
    "age_senior_income=age_senior['MonthlyIncome'].mean()\n",
    "train[\"MonthlyIncome\"] = train[\"MonthlyIncome\"].fillna(99999)\n",
    "train.loc[((train['age']>=18) & (train['age']<60))&(train[\"MonthlyIncome\"]==99999),\"MonthlyIncome\"]=age_working_income#用对应平均数填充\n",
    "train.loc[(train['age']>=60)&(train[\"MonthlyIncome\"]==99999),\"MonthlyIncome\"]=age_senior_income\n",
    "train[\"MonthlyIncome\"] = train[\"MonthlyIncome\"].astype('int64')\n",
    "\n",
    "#简单处理抚养人数的缺失值\n",
    "train[\"NumberOfDependents\"] = train[\"NumberOfDependents\"].fillna(0)\n",
    "train[\"NumberOfDependents\"] = train[\"NumberOfDependents\"].astype('int64')\n",
    "train[\"NumberOfDependents\"].value_counts()"
   ]
  },
  {
   "cell_type": "code",
   "execution_count": null,
   "metadata": {},
   "outputs": [],
   "source": [
    "#把三类违约集合处理\n",
    "train[\"CombinedDefaulted\"]=train['NumberOfTime30-59DaysPastDueNotWorse']+train['NumberOfTime60-89DaysPastDueNotWorse']+train['NumberOfTimes90DaysLate']\n",
    "train.loc[train[\"CombinedDefaulted\"]>=1,\"CombinedDefaulted\"]=1\n",
    "train[\"CombinedCreditLoans\"] = train[\"NumberOfOpenCreditLinesAndLoans\"] +train[\"NumberRealEstateLoansOrLines\"]\n",
    "train.loc[(train[\"CombinedCreditLoans\"] <= 5), \"CombinedCreditLoans\"] = 0\n",
    "train.loc[(train[\"CombinedCreditLoans\"] > 5), \"CombinedCreditLoans\"] = 1\n",
    "train[\"CombinedCreditLoans\"].value_counts()\n",
    "\n",
    "#处理扶养人数特征\n",
    "train[\"WithDependents\"] = train[\"NumberOfDependents\"]\n",
    "train.loc[(train[\"WithDependents\"] >= 1), \"WithDependents\"] = 1\n",
    "train[\"WithDependents\"].value_counts()\n",
    "\n",
    "#每月债务支出\n",
    "train[\"MonthlyDebtPayments\"] = train[\"DebtRatio\"] * train[\"MonthlyIncome\"]\n",
    "train[\"MonthlyDebtPayments\"] = np.absolute(train[\"MonthlyDebtPayments\"])\n",
    "train[\"MonthlyDebtPayments\"] = train[\"MonthlyDebtPayments\"].astype('int64')\n",
    "train['age'].astype('int64')\n",
    "train[\"MonthlyDebtPayments\"].astype('int64')\n",
    "\n",
    "train[\"age_map\"] = train[\"age\"]\n",
    "train.loc[(train[\"age\"] >= 18) & (train[\"age\"] < 60), \"age_map\"] = 1\n",
    "train.loc[(train[\"age\"] >= 60), \"age_map\"] = 0\n",
    "\n",
    "#替换为分类特征，然后获得虚拟变量\n",
    "train[\"age_map\"] = train[\"age_map\"].replace(0, \"working\")\n",
    "train[\"age_map\"] = train[\"age_map\"].replace(1, \"senior\")\n",
    "train= pd.concat([train, pd.get_dummies(train.age_map,prefix='is')], axis=1)"
   ]
  },
  {
   "cell_type": "code",
   "execution_count": null,
   "metadata": {},
   "outputs": [],
   "source": [
    "#查看关联系数，决定保留哪些特征\n",
    "corr = train.corr()\n",
    "corr['SeriousDlqin2yrs'].sort_values(ascending=False)"
   ]
  },
  {
   "cell_type": "code",
   "execution_count": null,
   "metadata": {},
   "outputs": [],
   "source": [
    "#查看过关联系数后，删除关联系小的特征\n",
    "train.drop([\"Unnamed: 0\",\"NumberOfOpenCreditLinesAndLoans\",\"NumberOfTimes90DaysLate\",\"NumberRealEstateLoansOrLines\",\"NumberOfTime60-89DaysPastDueNotWorse\",\"WithDependents\",\"age_map\",\"is_senior\",\"is_working\", \"MonthlyDebtPayments\"], axis=1, inplace=True)"
   ]
  },
  {
   "cell_type": "code",
   "execution_count": null,
   "metadata": {},
   "outputs": [],
   "source": [
    "#同理处理测试集\n",
    "def cleaned_dataset(dataset):\n",
    "    dataset.loc[dataset[\"age\"] <= 18, \"age\"] = dataset.age.median()\n",
    "    age_working = dataset.loc[(dataset[\"age\"] >= 18) & (dataset[\"age\"] < 60)]\n",
    "    age_senior = dataset.loc[(dataset[\"age\"] >= 60)]\n",
    "\n",
    "    age_working_impute = age_working.MonthlyIncome.mean()\n",
    "    age_senior_impute = age_senior.MonthlyIncome.mean()\n",
    "\n",
    "    dataset[\"MonthlyIncome\"] = np.absolute(dataset[\"MonthlyIncome\"])\n",
    "    dataset[\"MonthlyIncome\"] = dataset[\"MonthlyIncome\"].fillna(99999)\n",
    "    dataset[\"MonthlyIncome\"] = dataset[\"MonthlyIncome\"].astype('int64')\n",
    "\n",
    "    dataset.loc[((dataset[\"age\"] >= 18) & (dataset[\"age\"] < 60)) & (dataset[\"MonthlyIncome\"] == 99999),\"MonthlyIncome\"] = age_working_impute\n",
    "    dataset.loc[(train[\"age\"] >= 60) & (dataset[\"MonthlyIncome\"] == 99999), \"MonthlyIncome\"] = age_senior_impute\n",
    "    dataset[\"NumberOfDependents\"] = np.absolute(dataset[\"NumberOfDependents\"])\n",
    "    dataset[\"NumberOfDependents\"] = dataset[\"NumberOfDependents\"].fillna(0)\n",
    "    dataset[\"NumberOfDependents\"] = dataset[\"NumberOfDependents\"].astype('int64')\n",
    "\n",
    "    dataset[\"CombinedDefaulted\"] = (dataset[\"NumberOfTimes90DaysLate\"] + dataset[\"NumberOfTime60-89DaysPastDueNotWorse\"]) + dataset[\"NumberOfTime30-59DaysPastDueNotWorse\"]\n",
    "    dataset.loc[(dataset[\"CombinedDefaulted\"] >= 1), \"CombinedDefaulted\"] = 1\n",
    "\n",
    "    dataset[\"CombinedCreditLoans\"] = dataset[\"NumberOfOpenCreditLinesAndLoans\"] + dataset[\"NumberRealEstateLoansOrLines\"]\n",
    "    dataset.loc[(dataset[\"CombinedCreditLoans\"] <= 5), \"CombinedCreditLoans\"] = 0\n",
    "    dataset.loc[(dataset[\"CombinedCreditLoans\"] > 5), \"CombinedCreditLoans\"] = 1\n",
    "\n",
    "    dataset.drop([\"Unnamed: 0\",\"NumberOfOpenCreditLinesAndLoans\",\"NumberOfTimes90DaysLate\",\"NumberRealEstateLoansOrLines\",\"NumberOfTime60-89DaysPastDueNotWorse\"], axis=1, inplace=True)\n",
    "\n",
    "cleaned_dataset(test)"
   ]
  },
  {
   "cell_type": "code",
   "execution_count": null,
   "metadata": {},
   "outputs": [],
   "source": [
    "#分离\n",
    "X = train.drop(\"SeriousDlqin2yrs\", axis=1).copy()\n",
    "y = train.SeriousDlqin2yrs\n",
    "X_test = test.drop(\"SeriousDlqin2yrs\", axis=1).copy()\n",
    "y_test = test.SeriousDlqin2yrs"
   ]
  },
  {
   "cell_type": "code",
   "execution_count": null,
   "metadata": {},
   "outputs": [],
   "source": [
    "from sklearn.model_selection import train_test_split\n",
    "from sklearn.preprocessing import StandardScaler\n",
    "from sklearn.linear_model import LogisticRegression\n",
    "from sklearn.metrics import classification_report\n",
    "from sklearn.ensemble import RandomForestClassifier\n",
    "from sklearn import tree\n",
    "import xgboost as xgb"
   ]
  },
  {
   "cell_type": "code",
   "execution_count": null,
   "metadata": {},
   "outputs": [],
   "source": [
    "#分离训练集，验证集\n",
    "X_train, X_val, y_train, y_val = train_test_split(X,y,random_state=42)\n",
    "\n",
    "#标准化处理\n",
    "scaler = StandardScaler().fit(X_train)\n",
    "X_train_scaled = scaler.transform(X_train)\n",
    "X_val_scaled = scaler.transform(X_val)\n",
    "X_test_scaled = scaler.transform(X_test)"
   ]
  },
  {
   "cell_type": "code",
   "execution_count": null,
   "metadata": {},
   "outputs": [],
   "source": [
    "#模型比较\n",
    "lr = LogisticRegression()\n",
    "lr.fit(X_train_scaled, y_train)\n",
    "predicted_probs_train = lr.predict_proba(X_train_scaled)\n",
    "predicted_probs_train = [x[1] for  x in predicted_probs_train]\n",
    "computeAUC(y_train, predicted_probs_train)\n",
    "\n",
    "predicted_probs_test_new = lr.predict_proba(X_val_scaled)\n",
    "predicted_probs_test_new = [x[1] for x in predicted_probs_test_new]\n",
    "computeAUC(y_val, predicted_probs_test_new)\n",
    "\n",
    "model = tree.DecisionTreeClassifier()    \n",
    "model.fit(X_train_scaled, y_train)\n",
    "predicted_probs_train = model.predict_proba(X_train_scaled)\n",
    "predicted_probs_train = [x[1] for  x in predicted_probs_train]\n",
    "computeAUC(y_train, predicted_probs_train)\n",
    "\n",
    "predicted_probs_test_new = lr.predict_proba(X_val_scaled)\n",
    "predicted_probs_test_new = [x[1] for x in predicted_probs_test_new]\n",
    "computeAUC(y_val, predicted_probs_test_new)"
   ]
  },
  {
   "cell_type": "code",
   "execution_count": null,
   "metadata": {},
   "outputs": [],
   "source": [
    "#用网格搜索调整参数\n",
    "rf = RandomForestClassifier(n_estimators=100,\n",
    "                            oob_score= True,\n",
    "                            min_samples_split=2,\n",
    "                            min_samples_leaf=50,\n",
    "                            n_jobs=-1,\n",
    "                            class_weight='balanced_subsample',\n",
    "                            bootstrap=True)\n",
    "param_grid = {\"max_features\": [2, 3, 4], \"min_samples_leaf\":[50]}\n",
    "grid_search = GridSearchCV(rf, cv=10, scoring='roc_auc', param_grid=param_grid, iid=False)\n",
    "grid_search.fit(X_train_scaled, y_train)\n",
    "print(\"the best parameter:\", grid_search.best_params_)\n",
    "print(\"the best score:\", grid_search.best_score_)"
   ]
  },
  {
   "cell_type": "code",
   "execution_count": null,
   "metadata": {},
   "outputs": [],
   "source": [
    "#使用训练的模型来预测X_train数据\n",
    "predicted_probs_train = grid_search.predict_proba(X_train_scaled)\n",
    "predicted_probs_train = [x[1] for  x in predicted_probs_train]\n",
    "computeAUC(y_train, predicted_probs_train)"
   ]
  },
  {
   "cell_type": "code",
   "execution_count": null,
   "metadata": {},
   "outputs": [],
   "source": [
    "#使用训练的模型来预测X_val数据\n",
    "predicted_probs_val = grid_search.predict_proba(X_val)\n",
    "predicted_probs_val = [x[1] for x in predicted_probs_val]\n",
    "computeAUC(y_val, predicted_probs_val)"
   ]
  },
  {
   "cell_type": "code",
   "execution_count": null,
   "metadata": {},
   "outputs": [],
   "source": [
    "#使用该模型预测test\n",
    "predicted_probs_test = grid_search.predict_proba(X_test)\n",
    "predicted_probs_test = [\"%.9f\" % x[1] for x in predicted_probs_test]\n",
    "submission = pd.DataFrame({'Id':range(1,101504), 'Probability':predicted_probs_test})\n",
    "submission.to_csv(\"predict_proba.csv\", index=False)"
   ]
  }
 ],
 "metadata": {
  "kernelspec": {
   "display_name": "Python 3",
   "language": "python",
   "name": "python3"
  },
  "language_info": {
   "codemirror_mode": {
    "name": "ipython",
    "version": 3
   },
   "file_extension": ".py",
   "mimetype": "text/x-python",
   "name": "python",
   "nbconvert_exporter": "python",
   "pygments_lexer": "ipython3",
   "version": "3.6.5"
  }
 },
 "nbformat": 4,
 "nbformat_minor": 2
}
